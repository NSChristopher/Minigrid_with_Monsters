{
 "cells": [
  {
   "cell_type": "code",
   "execution_count": null,
   "metadata": {},
   "outputs": [],
   "source": [
    "import gymnasium as gym\n",
    "from minigrid.envs import FourRoomsEnv, LavaGapEnv, LockedRoomEnv\n",
    "import time\n",
    "from minigrid.rendering.rendering_manager import RenderingManager\n",
    "from minigrid.rendering.smooth_rendering_manager import SmoothRenderingManager\n",
    "import numpy as np\n",
    "\n",
    "env = LockedRoomEnv(render_mode='human', rendering_manager=SmoothRenderingManager)\n",
    "\n",
    "observation, info = env.reset()\n",
    "for _ in range(250):\n",
    "\n",
    "    rand = np.random.rand()\n",
    "    action = 2\n",
    "\n",
    "    if rand < 0.3:\n",
    "        action = env.action_space.sample()\n",
    "\n",
    "    observation, reward, terminated, truncated, info = env.step(action)\n",
    "\n",
    "    if terminated or truncated:\n",
    "        observation, info = env.reset()\n",
    "\n",
    "    # pause for a few milliseconds before rendering the next frame\n",
    "    time.sleep(0.05)\n",
    "    \n",
    "env.close()"
   ]
  },
  {
   "cell_type": "code",
   "execution_count": 1,
   "metadata": {},
   "outputs": [
    {
     "data": {
      "image/png": "[encoded data removed]",
      "text/plain": [
       "<Figure size 640x480 with 1 Axes>"
      ]
     },
     "metadata": {},
     "output_type": "display_data"
    }
   ],
   "source": [
    "from minigrid.renderers.pretty_obj_renderers import extract_sprite_by_index\n",
    "import numpy as np\n",
    "import matplotlib.pyplot as plt\n",
    "\n",
    "\n",
    "# display extracted sprite. sprite will be returned as a numpy array\n",
    "\n",
    "def display_sprite(index):\n",
    "    sprite = extract_sprite_by_index(\"figures/sprites/Players.png\", 16, 16, index)\n",
    "    plt.imshow(sprite)\n",
    "    plt.show()\n",
    "\n",
    "\n",
    "display_sprite(112)\n"
   ]
  },
  {
   "cell_type": "code",
   "execution_count": 30,
   "metadata": {},
   "outputs": [
    {
     "name": "stdout",
     "output_type": "stream",
     "text": [
      "Original color: blue\n",
      "Direct grid access: red\n",
      "Pointer array access: blue\n"
     ]
    }
   ],
   "source": [
    "from minigrid.core.world_object import Ball\n",
    "import ctypes\n",
    "import numpy as np\n",
    "\n",
    "# Original grid: a 3x3 list of Ball objects\n",
    "grid = [[Ball() for _ in range(3)] for _ in range(3)]\n",
    "\n",
    "# Create a flat NumPy array of ctypes pointers to the objects in the grid\n",
    "pointer_array = np.empty((3, 3), dtype=object)\n",
    "for i in range(3):\n",
    "    for j in range(3):\n",
    "        pointer_array[i, j] = ctypes.pointer(ctypes.py_object(grid[i][j]))\n",
    "\n",
    "print(\"Original color:\", grid[0][0].color)\n",
    "\n",
    "# Access and modify elements in the grid\n",
    "grid[0][0] = Ball(color=\"red\")\n",
    "\n",
    "# Access elements via the pointer array\n",
    "print(\"Direct grid access:\", grid[0][0].color)  # Should print \"red\"\n",
    "print(\"Pointer array access:\", pointer_array[0, 0].contents.value.color)  # Should also print \"red\"\n",
    "\n"
   ]
  },
  {
   "cell_type": "code",
   "execution_count": 3,
   "metadata": {},
   "outputs": [
    {
     "name": "stdout",
     "output_type": "stream",
     "text": [
      "Original grid:\n",
      "[[0 1 2]\n",
      " [3 4 5]\n",
      " [6 7 8]]\n",
      "Modified grid:\n",
      "[[  0   1   2]\n",
      " [  3 100   5]\n",
      " [  6   7   8]]\n",
      "View:\n",
      "[[100   5]\n",
      " [  7   8]]\n"
     ]
    }
   ],
   "source": [
    "import numpy as np\n",
    "\n",
    "# create a 3x3 grid of numbers from 0 to 8\n",
    "grid = np.arange(9).reshape(3, 3)\n",
    "\n",
    "print(\"Original grid:\")\n",
    "print(grid)\n",
    "\n",
    "# Create view of subset of the grid\n",
    "view = grid[1:, 1:].view()\n",
    "\n",
    "# Modify the view\n",
    "view[0, 0] = 100\n",
    "\n",
    "print(\"Modified grid:\")\n",
    "print(grid)\n",
    "\n",
    "print(\"View:\")\n",
    "print(view)"
   ]
  },
  {
   "cell_type": "code",
   "execution_count": 1,
   "metadata": {},
   "outputs": [
    {
     "ename": "GLException",
     "evalue": "(0x1282): Invalid operation. The specified operation is not allowed in the current state.",
     "output_type": "error",
     "traceback": [
      "\u001b[0;31m---------------------------------------------------------------------------\u001b[0m",
      "\u001b[0;31mGLException\u001b[0m                               Traceback (most recent call last)",
      "Cell \u001b[0;32mIn[1], line 55\u001b[0m\n\u001b[1;32m     52\u001b[0m pg\u001b[38;5;241m.\u001b[39mapp\u001b[38;5;241m.\u001b[39mrun()\n\u001b[1;32m     54\u001b[0m \u001b[38;5;66;03m# Call the main loop to render the sprites\u001b[39;00m\n\u001b[0;32m---> 55\u001b[0m \u001b[43mmain_loop\u001b[49m\u001b[43m(\u001b[49m\u001b[43m)\u001b[49m\n",
      "Cell \u001b[0;32mIn[1], line 48\u001b[0m, in \u001b[0;36mmain_loop\u001b[0;34m()\u001b[0m\n\u001b[1;32m     46\u001b[0m \u001b[38;5;28;01mdef\u001b[39;00m \u001b[38;5;21mmain_loop\u001b[39m():\n\u001b[1;32m     47\u001b[0m     \u001b[38;5;28;01mfor\u001b[39;00m _ \u001b[38;5;129;01min\u001b[39;00m \u001b[38;5;28mrange\u001b[39m(\u001b[38;5;241m4\u001b[39m):\n\u001b[0;32m---> 48\u001b[0m         \u001b[43mrender_sprites\u001b[49m\u001b[43m(\u001b[49m\u001b[43m)\u001b[49m\n\u001b[1;32m     49\u001b[0m         pg\u001b[38;5;241m.\u001b[39mclock\u001b[38;5;241m.\u001b[39mtick( \u001b[38;5;241m60\u001b[39m )\n",
      "Cell \u001b[0;32mIn[1], line 36\u001b[0m, in \u001b[0;36mrender_sprites\u001b[0;34m()\u001b[0m\n\u001b[1;32m     34\u001b[0m \u001b[38;5;28;01mdef\u001b[39;00m \u001b[38;5;21mrender_sprites\u001b[39m():\n\u001b[1;32m     35\u001b[0m     window\u001b[38;5;241m.\u001b[39mclear()\n\u001b[0;32m---> 36\u001b[0m     \u001b[43mlabel\u001b[49m\u001b[38;5;241;43m.\u001b[39;49m\u001b[43mdraw\u001b[49m\u001b[43m(\u001b[49m\u001b[43m)\u001b[49m\n\u001b[1;32m     37\u001b[0m     sprite\u001b[38;5;241m.\u001b[39mdraw()\n\u001b[1;32m     38\u001b[0m     anim_sprite\u001b[38;5;241m.\u001b[39mdraw()\n",
      "File \u001b[0;32m/workspaces/Minigrid_with_Monsters/venv/lib/python3.12/site-packages/pyglet/text/layout/base.py:1422\u001b[0m, in \u001b[0;36mTextLayout.draw\u001b[0;34m(self)\u001b[0m\n\u001b[1;32m   1413\u001b[0m \u001b[38;5;250m\u001b[39m\u001b[38;5;124;03m\"\"\"Draw this text layout.\u001b[39;00m\n\u001b[1;32m   1414\u001b[0m \n\u001b[1;32m   1415\u001b[0m \u001b[38;5;124;03m.. note:: This method performs very badly if a batch was supplied to the constructor.\u001b[39;00m\n\u001b[0;32m   (...)\u001b[0m\n\u001b[1;32m   1419\u001b[0m \n\u001b[1;32m   1420\u001b[0m \u001b[38;5;124;03m\"\"\"\u001b[39;00m\n\u001b[1;32m   1421\u001b[0m \u001b[38;5;28;01mif\u001b[39;00m \u001b[38;5;28mself\u001b[39m\u001b[38;5;241m.\u001b[39m_own_batch:\n\u001b[0;32m-> 1422\u001b[0m     \u001b[38;5;28;43mself\u001b[39;49m\u001b[38;5;241;43m.\u001b[39;49m\u001b[43m_batch\u001b[49m\u001b[38;5;241;43m.\u001b[39;49m\u001b[43mdraw\u001b[49m\u001b[43m(\u001b[49m\u001b[43m)\u001b[49m\n\u001b[1;32m   1423\u001b[0m \u001b[38;5;28;01melse\u001b[39;00m:\n\u001b[1;32m   1424\u001b[0m     \u001b[38;5;28mself\u001b[39m\u001b[38;5;241m.\u001b[39m_batch\u001b[38;5;241m.\u001b[39mdraw_subset(\u001b[38;5;28mself\u001b[39m\u001b[38;5;241m.\u001b[39m_vertex_lists)\n",
      "File \u001b[0;32m/workspaces/Minigrid_with_Monsters/venv/lib/python3.12/site-packages/pyglet/graphics/__init__.py:558\u001b[0m, in \u001b[0;36mBatch.draw\u001b[0;34m(self)\u001b[0m\n\u001b[1;32m    555\u001b[0m     \u001b[38;5;28mself\u001b[39m\u001b[38;5;241m.\u001b[39m_update_draw_list()\n\u001b[1;32m    557\u001b[0m \u001b[38;5;28;01mfor\u001b[39;00m func \u001b[38;5;129;01min\u001b[39;00m \u001b[38;5;28mself\u001b[39m\u001b[38;5;241m.\u001b[39m_draw_list:\n\u001b[0;32m--> 558\u001b[0m     \u001b[43mfunc\u001b[49m\u001b[43m(\u001b[49m\u001b[43m)\u001b[49m\n",
      "File \u001b[0;32m/workspaces/Minigrid_with_Monsters/venv/lib/python3.12/site-packages/pyglet/graphics/__init__.py:488\u001b[0m, in \u001b[0;36mBatch._update_draw_list.<locals>.visit.<locals>.<lambda>\u001b[0;34m()\u001b[0m\n\u001b[1;32m    486\u001b[0m         \u001b[38;5;28;01mdel\u001b[39;00m domain_map[(indexed, instanced, mode, formats)]\n\u001b[1;32m    487\u001b[0m         \u001b[38;5;28;01mcontinue\u001b[39;00m\n\u001b[0;32m--> 488\u001b[0m     draw_list\u001b[38;5;241m.\u001b[39mappend((\u001b[38;5;28;01mlambda\u001b[39;00m d, m: \u001b[38;5;28;01mlambda\u001b[39;00m: \u001b[43md\u001b[49m\u001b[38;5;241;43m.\u001b[39;49m\u001b[43mdraw\u001b[49m\u001b[43m(\u001b[49m\u001b[43mm\u001b[49m\u001b[43m)\u001b[49m)(domain, mode))  \u001b[38;5;66;03m# noqa: PLC3002\u001b[39;00m\n\u001b[1;32m    490\u001b[0m \u001b[38;5;66;03m# Sort and visit child groups of this group\u001b[39;00m\n\u001b[1;32m    491\u001b[0m children \u001b[38;5;241m=\u001b[39m \u001b[38;5;28mself\u001b[39m\u001b[38;5;241m.\u001b[39mgroup_children\u001b[38;5;241m.\u001b[39mget(group)\n",
      "File \u001b[0;32m/workspaces/Minigrid_with_Monsters/venv/lib/python3.12/site-packages/pyglet/graphics/vertexdomain.py:710\u001b[0m, in \u001b[0;36mIndexedVertexDomain.draw\u001b[0;34m(self, mode)\u001b[0m\n\u001b[1;32m    699\u001b[0m \u001b[38;5;28;01mdef\u001b[39;00m \u001b[38;5;21mdraw\u001b[39m(\u001b[38;5;28mself\u001b[39m, mode: \u001b[38;5;28mint\u001b[39m) \u001b[38;5;241m-\u001b[39m\u001b[38;5;241m>\u001b[39m \u001b[38;5;28;01mNone\u001b[39;00m:\n\u001b[1;32m    700\u001b[0m \u001b[38;5;250m    \u001b[39m\u001b[38;5;124;03m\"\"\"Draw all vertices in the domain.\u001b[39;00m\n\u001b[1;32m    701\u001b[0m \n\u001b[1;32m    702\u001b[0m \u001b[38;5;124;03m    All vertices in the domain are drawn at once. This is the\u001b[39;00m\n\u001b[0;32m   (...)\u001b[0m\n\u001b[1;32m    708\u001b[0m \n\u001b[1;32m    709\u001b[0m \u001b[38;5;124;03m    \"\"\"\u001b[39;00m\n\u001b[0;32m--> 710\u001b[0m     \u001b[38;5;28;43mself\u001b[39;49m\u001b[38;5;241;43m.\u001b[39;49m\u001b[43mvao\u001b[49m\u001b[38;5;241;43m.\u001b[39;49m\u001b[43mbind\u001b[49m\u001b[43m(\u001b[49m\u001b[43m)\u001b[49m\n\u001b[1;32m    711\u001b[0m     \u001b[38;5;28;01mfor\u001b[39;00m buffer, _ \u001b[38;5;129;01min\u001b[39;00m \u001b[38;5;28mself\u001b[39m\u001b[38;5;241m.\u001b[39mbuffer_attributes:\n\u001b[1;32m    712\u001b[0m         buffer\u001b[38;5;241m.\u001b[39mcommit()\n",
      "File \u001b[0;32m/workspaces/Minigrid_with_Monsters/venv/lib/python3.12/site-packages/pyglet/graphics/vertexarray.py:32\u001b[0m, in \u001b[0;36mVertexArray.bind\u001b[0;34m(self)\u001b[0m\n\u001b[1;32m     31\u001b[0m \u001b[38;5;28;01mdef\u001b[39;00m \u001b[38;5;21mbind\u001b[39m(\u001b[38;5;28mself\u001b[39m) \u001b[38;5;241m-\u001b[39m\u001b[38;5;241m>\u001b[39m \u001b[38;5;28;01mNone\u001b[39;00m:\n\u001b[0;32m---> 32\u001b[0m     \u001b[43mglBindVertexArray\u001b[49m\u001b[43m(\u001b[49m\u001b[38;5;28;43mself\u001b[39;49m\u001b[38;5;241;43m.\u001b[39;49m\u001b[43m_id\u001b[49m\u001b[43m)\u001b[49m\n",
      "File \u001b[0;32m/workspaces/Minigrid_with_Monsters/venv/lib/python3.12/site-packages/pyglet/gl/lib.py:83\u001b[0m, in \u001b[0;36merrcheck\u001b[0;34m(result, func, arguments)\u001b[0m\n\u001b[1;32m     81\u001b[0m     error_msg \u001b[38;5;241m=\u001b[39m error_types\u001b[38;5;241m.\u001b[39mget(error, \u001b[38;5;124m\"\u001b[39m\u001b[38;5;124mUnknown error\u001b[39m\u001b[38;5;124m\"\u001b[39m)\n\u001b[1;32m     82\u001b[0m     msg \u001b[38;5;241m=\u001b[39m \u001b[38;5;124mf\u001b[39m\u001b[38;5;124m'\u001b[39m\u001b[38;5;124m(0x\u001b[39m\u001b[38;5;132;01m{\u001b[39;00merror\u001b[38;5;132;01m}\u001b[39;00m\u001b[38;5;124m): \u001b[39m\u001b[38;5;132;01m{\u001b[39;00merror_msg\u001b[38;5;132;01m}\u001b[39;00m\u001b[38;5;124m'\u001b[39m\n\u001b[0;32m---> 83\u001b[0m     \u001b[38;5;28;01mraise\u001b[39;00m GLException(msg)\n\u001b[1;32m     84\u001b[0m \u001b[38;5;28;01mreturn\u001b[39;00m result\n",
      "\u001b[0;31mGLException\u001b[0m: (0x1282): Invalid operation. The specified operation is not allowed in the current state."
     ]
    }
   ],
   "source": [
    "import pyglet as pg\n",
    "\n",
    "# Create a window\n",
    "window = pg.window.Window()\n",
    "\n",
    "# Create a label\n",
    "label = pg.text.Label('Hello, world',\n",
    "                      font_name='Times New Roman',\n",
    "                      font_size=36,\n",
    "                      x=window.width // 2, y=window.height // 2,\n",
    "                      anchor_x='center', anchor_y='center')\n",
    "\n",
    "# Sprite with basic image\n",
    "image = pg.image.load('figures/sprites/Chest_Open_Filled.png')\n",
    "sprite = pg.sprite.Sprite(image, x=100, y=0)\n",
    "\n",
    "# Load the sprite sheet\n",
    "chest_opening_sheet = pg.image.load('figures/sprites/Chest_Open_Empty.png')\n",
    "\n",
    "# Create animation frames\n",
    "frames = []\n",
    "for i in range(4):\n",
    "    frame_image = chest_opening_sheet.get_region(i * 16, 0, 16, 16)\n",
    "    animation_frame = pg.image.AnimationFrame(frame_image, duration=0.1)  # Set a duration for each frame\n",
    "    frames.append(animation_frame)\n",
    "\n",
    "# Create animation\n",
    "animation = pg.image.Animation(frames)\n",
    "\n",
    "# Create animated sprite\n",
    "anim_sprite = pg.sprite.Sprite(animation, x=200, y=0)\n",
    "\n",
    "# Function to render all sprites\n",
    "def render_sprites():\n",
    "    window.clear()\n",
    "    label.draw()\n",
    "    sprite.draw()\n",
    "    anim_sprite.draw()\n",
    "\n",
    "# Event to draw the window\n",
    "@window.event\n",
    "def on_draw():\n",
    "    render_sprites()\n",
    "\n",
    "# Example of calling the render function\n",
    "def main_loop():\n",
    "    for _ in range(4):\n",
    "        render_sprites()\n",
    "        pg.clock.tick( 60 )\n",
    "\n",
    "# Run the application\n",
    "pg.app.run()\n",
    "\n",
    "# Call the main loop to render the sprites\n",
    "main_loop()"
   ]
  },
  {
   "cell_type": "code",
   "execution_count": 4,
   "metadata": {},
   "outputs": [],
   "source": [
    "# close all windows\n",
    "pg.app.exit()"
   ]
  }
 ],
 "metadata": {
  "kernelspec": {
   "display_name": "venv",
   "language": "python",
   "name": "python3"
  },
  "language_info": {
   "codemirror_mode": {
    "name": "ipython",
    "version": 3
   },
   "file_extension": ".py",
   "mimetype": "text/x-python",
   "name": "python",
   "nbconvert_exporter": "python",
   "pygments_lexer": "ipython3",
   "version": "3.12.1"
  }
 },
 "nbformat": 4,
 "nbformat_minor": 2
}
