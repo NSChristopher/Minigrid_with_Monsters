{
 "cells": [
  {
   "cell_type": "code",
   "execution_count": 1,
   "metadata": {},
   "outputs": [
    {
     "data": {
      "image/png": "[encoded data removed]",
      "text/plain": [
       "<Figure size 640x480 with 1 Axes>"
      ]
     },
     "metadata": {},
     "output_type": "display_data"
    }
   ],
   "source": [
    "from minigrid.renderers.pretty_obj_renderers import extract_sprite_by_index\n",
    "import numpy as np\n",
    "import matplotlib.pyplot as plt\n",
    "\n",
    "\n",
    "# display extracted sprite. sprite will be returned as a numpy array\n",
    "\n",
    "def display_sprite(index):\n",
    "    sprite = extract_sprite_by_index(\"figures/sprites/Players.png\", 16, 16, index)\n",
    "    plt.imshow(sprite)\n",
    "    plt.show()\n",
    "\n",
    "\n",
    "display_sprite(112)\n"
   ]
  },
  {
   "cell_type": "code",
   "execution_count": null,
   "metadata": {},
   "outputs": [],
   "source": [
    "import gymnasium as gym\n",
    "from minigrid.envs import FourRoomsEnv, LavaGapEnv, LockedRoomEnv\n",
    "import time\n",
    "from minigrid.rendering.rendering_manager import PrettyRenderingManager, RenderingManager\n",
    "import numpy as np\n",
    "\n",
    "env = LockedRoomEnv(render_mode='human', rendering_manager=PrettyRenderingManager)\n",
    "\n",
    "observation, info = env.reset()\n",
    "for _ in range(250):\n",
    "\n",
    "    rand = np.random.rand()\n",
    "    action = 2\n",
    "\n",
    "    if rand < 0.3:\n",
    "        action = env.action_space.sample()\n",
    "\n",
    "    observation, reward, terminated, truncated, info = env.step(action)\n",
    "\n",
    "    if terminated or truncated:\n",
    "        observation, info = env.reset()\n",
    "\n",
    "    # pause for a few milliseconds before rendering the next frame\n",
    "    time.sleep(0.5)\n",
    "    \n",
    "env.close()"
   ]
  }
 ],
 "metadata": {
  "kernelspec": {
   "display_name": "venv",
   "language": "python",
   "name": "python3"
  },
  "language_info": {
   "codemirror_mode": {
    "name": "ipython",
    "version": 3
   },
   "file_extension": ".py",
   "mimetype": "text/x-python",
   "name": "python",
   "nbconvert_exporter": "python",
   "pygments_lexer": "ipython3",
   "version": "3.12.1"
  }
 },
 "nbformat": 4,
 "nbformat_minor": 2
}
